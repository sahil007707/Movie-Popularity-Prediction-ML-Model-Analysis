{
 "cells": [
  {
   "cell_type": "markdown",
   "id": "642ca3e3",
   "metadata": {},
   "source": [
    "### Importing Librarires"
   ]
  },
  {
   "cell_type": "code",
   "execution_count": 282,
   "id": "ebcfe075",
   "metadata": {},
   "outputs": [],
   "source": [
    "import pandas as pd\n",
    "pd.set_option(\"display.max_columns\",None)\n",
    "pd.set_option('display.max_colwidth',150)  # Set a specific width (e.g., 100 characters)\n",
    "import seaborn as sns \n",
    "import matplotlib.pyplot as plt\n",
    "import numpy as np\n",
    "from sklearn.ensemble import RandomForestRegressor\n",
    "from sklearn.metrics import mean_squared_error,r2_score\n",
    "from sklearn.preprocessing import LabelEncoder\n",
    "from sklearn.model_selection import train_test_split"
   ]
  },
  {
   "cell_type": "code",
   "execution_count": 283,
   "id": "f1182dc3",
   "metadata": {},
   "outputs": [],
   "source": [
    "df=pd.read_csv(r\"c:\\Users\\user\\Desktop\\Kaggle Datasets\\tmdb_top_rated_movies.csv\")"
   ]
  },
  {
   "cell_type": "code",
   "execution_count": 284,
   "id": "679ec11e",
   "metadata": {},
   "outputs": [
    {
     "data": {
      "text/html": [
       "<div>\n",
       "<style scoped>\n",
       "    .dataframe tbody tr th:only-of-type {\n",
       "        vertical-align: middle;\n",
       "    }\n",
       "\n",
       "    .dataframe tbody tr th {\n",
       "        vertical-align: top;\n",
       "    }\n",
       "\n",
       "    .dataframe thead th {\n",
       "        text-align: right;\n",
       "    }\n",
       "</style>\n",
       "<table border=\"1\" class=\"dataframe\">\n",
       "  <thead>\n",
       "    <tr style=\"text-align: right;\">\n",
       "      <th></th>\n",
       "      <th>id</th>\n",
       "      <th>original_language</th>\n",
       "      <th>overview</th>\n",
       "      <th>release_date</th>\n",
       "      <th>title</th>\n",
       "      <th>popularity</th>\n",
       "      <th>vote_average</th>\n",
       "      <th>vote_count</th>\n",
       "    </tr>\n",
       "  </thead>\n",
       "  <tbody>\n",
       "    <tr>\n",
       "      <th>0</th>\n",
       "      <td>278</td>\n",
       "      <td>en</td>\n",
       "      <td>Imprisoned in the 1940s for the double murder of his wife and her lover, upstanding banker Andy Dufresne begins a new life at the Shawshank prison...</td>\n",
       "      <td>1994-09-23</td>\n",
       "      <td>The Shawshank Redemption</td>\n",
       "      <td>35.0440</td>\n",
       "      <td>8.708</td>\n",
       "      <td>28176</td>\n",
       "    </tr>\n",
       "    <tr>\n",
       "      <th>1</th>\n",
       "      <td>238</td>\n",
       "      <td>en</td>\n",
       "      <td>Spanning the years 1945 to 1955, a chronicle of the fictional Italian-American Corleone crime family. When organized crime family patriarch, Vito ...</td>\n",
       "      <td>1972-03-14</td>\n",
       "      <td>The Godfather</td>\n",
       "      <td>36.3040</td>\n",
       "      <td>8.687</td>\n",
       "      <td>21363</td>\n",
       "    </tr>\n",
       "    <tr>\n",
       "      <th>2</th>\n",
       "      <td>240</td>\n",
       "      <td>en</td>\n",
       "      <td>In the continuing saga of the Corleone crime family, a young Vito Corleone grows up in Sicily and in 1910s New York. In the 1950s, Michael Corleon...</td>\n",
       "      <td>1974-12-20</td>\n",
       "      <td>The Godfather Part II</td>\n",
       "      <td>17.2441</td>\n",
       "      <td>8.570</td>\n",
       "      <td>12910</td>\n",
       "    </tr>\n",
       "    <tr>\n",
       "      <th>3</th>\n",
       "      <td>424</td>\n",
       "      <td>en</td>\n",
       "      <td>The true story of how businessman Oskar Schindler saved over a thousand Jewish lives from the Nazis while they worked as slaves in his factory dur...</td>\n",
       "      <td>1993-12-15</td>\n",
       "      <td>Schindler's List</td>\n",
       "      <td>37.5490</td>\n",
       "      <td>8.564</td>\n",
       "      <td>16380</td>\n",
       "    </tr>\n",
       "    <tr>\n",
       "      <th>4</th>\n",
       "      <td>389</td>\n",
       "      <td>en</td>\n",
       "      <td>The defense and the prosecution have rested and the jury is filing into the jury room to decide if a young Spanish-American is guilty or innocent ...</td>\n",
       "      <td>1957-04-10</td>\n",
       "      <td>12 Angry Men</td>\n",
       "      <td>17.0033</td>\n",
       "      <td>8.548</td>\n",
       "      <td>9091</td>\n",
       "    </tr>\n",
       "  </tbody>\n",
       "</table>\n",
       "</div>"
      ],
      "text/plain": [
       "    id original_language  \\\n",
       "0  278                en   \n",
       "1  238                en   \n",
       "2  240                en   \n",
       "3  424                en   \n",
       "4  389                en   \n",
       "\n",
       "                                                                                                                                                overview  \\\n",
       "0  Imprisoned in the 1940s for the double murder of his wife and her lover, upstanding banker Andy Dufresne begins a new life at the Shawshank prison...   \n",
       "1  Spanning the years 1945 to 1955, a chronicle of the fictional Italian-American Corleone crime family. When organized crime family patriarch, Vito ...   \n",
       "2  In the continuing saga of the Corleone crime family, a young Vito Corleone grows up in Sicily and in 1910s New York. In the 1950s, Michael Corleon...   \n",
       "3  The true story of how businessman Oskar Schindler saved over a thousand Jewish lives from the Nazis while they worked as slaves in his factory dur...   \n",
       "4  The defense and the prosecution have rested and the jury is filing into the jury room to decide if a young Spanish-American is guilty or innocent ...   \n",
       "\n",
       "  release_date                     title  popularity  vote_average  vote_count  \n",
       "0   1994-09-23  The Shawshank Redemption     35.0440         8.708       28176  \n",
       "1   1972-03-14             The Godfather     36.3040         8.687       21363  \n",
       "2   1974-12-20     The Godfather Part II     17.2441         8.570       12910  \n",
       "3   1993-12-15          Schindler's List     37.5490         8.564       16380  \n",
       "4   1957-04-10              12 Angry Men     17.0033         8.548        9091  "
      ]
     },
     "execution_count": 284,
     "metadata": {},
     "output_type": "execute_result"
    }
   ],
   "source": [
    "df.head(5)"
   ]
  },
  {
   "cell_type": "markdown",
   "id": "41fb7339",
   "metadata": {},
   "source": [
    "## Dataset Overview"
   ]
  },
  {
   "cell_type": "code",
   "execution_count": 285,
   "id": "cc23ac78",
   "metadata": {},
   "outputs": [
    {
     "name": "stdout",
     "output_type": "stream",
     "text": [
      "<class 'pandas.core.frame.DataFrame'>\n",
      "RangeIndex: 10000 entries, 0 to 9999\n",
      "Data columns (total 8 columns):\n",
      " #   Column             Non-Null Count  Dtype  \n",
      "---  ------             --------------  -----  \n",
      " 0   id                 10000 non-null  int64  \n",
      " 1   original_language  10000 non-null  object \n",
      " 2   overview           10000 non-null  object \n",
      " 3   release_date       9998 non-null   object \n",
      " 4   title              10000 non-null  object \n",
      " 5   popularity         10000 non-null  float64\n",
      " 6   vote_average       10000 non-null  float64\n",
      " 7   vote_count         10000 non-null  int64  \n",
      "dtypes: float64(2), int64(2), object(4)\n",
      "memory usage: 625.1+ KB\n"
     ]
    }
   ],
   "source": [
    "df.info()"
   ]
  },
  {
   "cell_type": "code",
   "execution_count": 286,
   "id": "19f3e5ec",
   "metadata": {},
   "outputs": [
    {
     "data": {
      "text/plain": [
       "(10000, 8)"
      ]
     },
     "execution_count": 286,
     "metadata": {},
     "output_type": "execute_result"
    }
   ],
   "source": [
    "df.shape"
   ]
  },
  {
   "cell_type": "code",
   "execution_count": 287,
   "id": "6f239ac2",
   "metadata": {},
   "outputs": [
    {
     "data": {
      "text/plain": [
       "Index(['id', 'original_language', 'overview', 'release_date', 'title',\n",
       "       'popularity', 'vote_average', 'vote_count'],\n",
       "      dtype='object')"
      ]
     },
     "execution_count": 287,
     "metadata": {},
     "output_type": "execute_result"
    }
   ],
   "source": [
    "df.columns"
   ]
  },
  {
   "cell_type": "markdown",
   "id": "4e58ba53",
   "metadata": {},
   "source": [
    "## Converting Dtype"
   ]
  },
  {
   "cell_type": "code",
   "execution_count": 288,
   "id": "fabba21b",
   "metadata": {},
   "outputs": [],
   "source": [
    "df[\"release_date\"]=pd.to_datetime(df[\"release_date\"],errors=\"coerce\")"
   ]
  },
  {
   "cell_type": "markdown",
   "id": "b7513804",
   "metadata": {},
   "source": [
    "## Dropping Columns For Better Overview"
   ]
  },
  {
   "cell_type": "code",
   "execution_count": 289,
   "id": "7b9aa198",
   "metadata": {},
   "outputs": [],
   "source": [
    "df.drop(columns=[\"id\",\"overview\"],inplace=True)"
   ]
  },
  {
   "cell_type": "markdown",
   "id": "14bac3bf",
   "metadata": {},
   "source": [
    "## `Cleaning Data`"
   ]
  },
  {
   "cell_type": "code",
   "execution_count": 290,
   "id": "c3ae0709",
   "metadata": {},
   "outputs": [
    {
     "data": {
      "text/plain": [
       "original_language    0\n",
       "release_date         2\n",
       "title                0\n",
       "popularity           0\n",
       "vote_average         0\n",
       "vote_count           0\n",
       "dtype: int64"
      ]
     },
     "execution_count": 290,
     "metadata": {},
     "output_type": "execute_result"
    }
   ],
   "source": [
    "df.isna().sum()"
   ]
  },
  {
   "cell_type": "code",
   "execution_count": 291,
   "id": "a0443ab1",
   "metadata": {},
   "outputs": [],
   "source": [
    "df.dropna(subset=[\"release_date\"],inplace=True)"
   ]
  },
  {
   "cell_type": "code",
   "execution_count": 292,
   "id": "dc7782f8",
   "metadata": {},
   "outputs": [
    {
     "name": "stdout",
     "output_type": "stream",
     "text": [
      "213\n",
      "     original_language release_date                                     title  \\\n",
      "462                 zh   2000-09-20                                     Yi Yi   \n",
      "1120                en   2014-06-19                 What We Do in the Shadows   \n",
      "1204                cn   1985-12-14                              Police Story   \n",
      "1220                en   1962-10-24                  The Manchurian Candidate   \n",
      "1320                en   1986-09-24                      The Name of the Rose   \n",
      "...                ...          ...                                       ...   \n",
      "9881                en   2016-04-22                                  Holidays   \n",
      "9940                en   2017-09-22                           Killing Gunther   \n",
      "9941                en   2022-01-28                                The Requin   \n",
      "9980                en   1999-03-16  From Dusk Till Dawn 2: Texas Blood Money   \n",
      "9981                en   1994-06-09         Police Academy: Mission to Moscow   \n",
      "\n",
      "      popularity  vote_average  vote_count  \n",
      "462       2.4363         7.885         558  \n",
      "1120      3.5137         7.559        3634  \n",
      "1204      5.3411         7.500         917  \n",
      "1220      4.8293         7.500         734  \n",
      "1320      5.6696         7.496        3087  \n",
      "...          ...           ...         ...  \n",
      "9881      3.7467         4.950         496  \n",
      "9940      4.6052         4.779         405  \n",
      "9941      3.9076         4.800         344  \n",
      "9980      1.6833         4.631         478  \n",
      "9981      2.9631         4.625         895  \n",
      "\n",
      "[213 rows x 6 columns]\n"
     ]
    }
   ],
   "source": [
    "print(df.duplicated().sum())  # Count duplicate rows\n",
    "print(df[df.duplicated()])  # Display duplicate rows\n"
   ]
  },
  {
   "cell_type": "code",
   "execution_count": 293,
   "id": "c1fa46c9",
   "metadata": {},
   "outputs": [
    {
     "data": {
      "text/plain": [
       "np.int64(0)"
      ]
     },
     "execution_count": 293,
     "metadata": {},
     "output_type": "execute_result"
    }
   ],
   "source": [
    "df.drop_duplicates(inplace=True)\n",
    "df.duplicated().sum()"
   ]
  },
  {
   "cell_type": "markdown",
   "id": "fffbb4ec",
   "metadata": {},
   "source": [
    "## Classification Based On Popularity And Votings"
   ]
  },
  {
   "cell_type": "code",
   "execution_count": 294,
   "id": "16d90a5a",
   "metadata": {},
   "outputs": [
    {
     "data": {
      "text/html": [
       "<style type=\"text/css\">\n",
       "#T_56276_row0_col1 {\n",
       "  background-color: #67000d;\n",
       "  color: #f1f1f1;\n",
       "}\n",
       "#T_56276_row1_col1 {\n",
       "  background-color: #f34935;\n",
       "  color: #f1f1f1;\n",
       "}\n",
       "#T_56276_row2_col1 {\n",
       "  background-color: #fb6b4b;\n",
       "  color: #f1f1f1;\n",
       "}\n",
       "#T_56276_row3_col1 {\n",
       "  background-color: #fb7656;\n",
       "  color: #f1f1f1;\n",
       "}\n",
       "#T_56276_row4_col1 {\n",
       "  background-color: #fcbda4;\n",
       "  color: #000000;\n",
       "}\n",
       "#T_56276_row5_col1 {\n",
       "  background-color: #fdc5ae;\n",
       "  color: #000000;\n",
       "}\n",
       "#T_56276_row6_col1 {\n",
       "  background-color: #fdccb8;\n",
       "  color: #000000;\n",
       "}\n",
       "#T_56276_row7_col1 {\n",
       "  background-color: #fdcebb;\n",
       "  color: #000000;\n",
       "}\n",
       "#T_56276_row8_col1 {\n",
       "  background-color: #fdd1be;\n",
       "  color: #000000;\n",
       "}\n",
       "#T_56276_row9_col1 {\n",
       "  background-color: #fedfd0;\n",
       "  color: #000000;\n",
       "}\n",
       "#T_56276_row10_col1 {\n",
       "  background-color: #fee8dd;\n",
       "  color: #000000;\n",
       "}\n",
       "#T_56276_row11_col1 {\n",
       "  background-color: #ffebe2;\n",
       "  color: #000000;\n",
       "}\n",
       "#T_56276_row12_col1 {\n",
       "  background-color: #ffece4;\n",
       "  color: #000000;\n",
       "}\n",
       "#T_56276_row13_col1 {\n",
       "  background-color: #ffede5;\n",
       "  color: #000000;\n",
       "}\n",
       "#T_56276_row14_col1, #T_56276_row15_col1 {\n",
       "  background-color: #fff0e9;\n",
       "  color: #000000;\n",
       "}\n",
       "#T_56276_row16_col1, #T_56276_row17_col1, #T_56276_row18_col1 {\n",
       "  background-color: #fff1ea;\n",
       "  color: #000000;\n",
       "}\n",
       "#T_56276_row19_col1 {\n",
       "  background-color: #fff2ec;\n",
       "  color: #000000;\n",
       "}\n",
       "#T_56276_row20_col1, #T_56276_row21_col1 {\n",
       "  background-color: #fff3ed;\n",
       "  color: #000000;\n",
       "}\n",
       "#T_56276_row22_col1 {\n",
       "  background-color: #fff4ef;\n",
       "  color: #000000;\n",
       "}\n",
       "#T_56276_row23_col1, #T_56276_row24_col1 {\n",
       "  background-color: #fff5f0;\n",
       "  color: #000000;\n",
       "}\n",
       "</style>\n",
       "<table id=\"T_56276\">\n",
       "  <thead>\n",
       "    <tr>\n",
       "      <th class=\"blank level0\" >&nbsp;</th>\n",
       "      <th id=\"T_56276_level0_col0\" class=\"col_heading level0 col0\" >title</th>\n",
       "      <th id=\"T_56276_level0_col1\" class=\"col_heading level0 col1\" >popularity</th>\n",
       "    </tr>\n",
       "  </thead>\n",
       "  <tbody>\n",
       "    <tr>\n",
       "      <th id=\"T_56276_level0_row0\" class=\"row_heading level0 row0\" >240</th>\n",
       "      <td id=\"T_56276_row0_col0\" class=\"data row0 col0\" >A Minecraft Movie</td>\n",
       "      <td id=\"T_56276_row0_col1\" class=\"data row0 col1\" >517.542500</td>\n",
       "    </tr>\n",
       "    <tr>\n",
       "      <th id=\"T_56276_level0_row1\" class=\"row_heading level0 row1\" >1414</th>\n",
       "      <td id=\"T_56276_row1_col0\" class=\"data row1 col0\" >Captain America: Brave New World</td>\n",
       "      <td id=\"T_56276_row1_col1\" class=\"data row1 col1\" >329.158500</td>\n",
       "    </tr>\n",
       "    <tr>\n",
       "      <th id=\"T_56276_level0_row2\" class=\"row_heading level0 row2\" >2754</th>\n",
       "      <td id=\"T_56276_row2_col0\" class=\"data row2 col0\" >G20</td>\n",
       "      <td id=\"T_56276_row2_col1\" class=\"data row2 col1\" >288.919100</td>\n",
       "    </tr>\n",
       "    <tr>\n",
       "      <th id=\"T_56276_level0_row3\" class=\"row_heading level0 row3\" >4968</th>\n",
       "      <td id=\"T_56276_row3_col0\" class=\"data row3 col0\" >Novocaine</td>\n",
       "      <td id=\"T_56276_row3_col1\" class=\"data row3 col1\" >272.901200</td>\n",
       "    </tr>\n",
       "    <tr>\n",
       "      <th id=\"T_56276_level0_row4\" class=\"row_heading level0 row4\" >1684</th>\n",
       "      <td id=\"T_56276_row4_col0\" class=\"data row4 col0\" >Conclave</td>\n",
       "      <td id=\"T_56276_row4_col1\" class=\"data row4 col1\" >172.353600</td>\n",
       "    </tr>\n",
       "    <tr>\n",
       "      <th id=\"T_56276_level0_row5\" class=\"row_heading level0 row5\" >4592</th>\n",
       "      <td id=\"T_56276_row5_col0\" class=\"data row5 col0\" >Moana 2</td>\n",
       "      <td id=\"T_56276_row5_col1\" class=\"data row5 col1\" >160.024900</td>\n",
       "    </tr>\n",
       "    <tr>\n",
       "      <th id=\"T_56276_level0_row6\" class=\"row_heading level0 row6\" >4689</th>\n",
       "      <td id=\"T_56276_row6_col0\" class=\"data row6 col0\" >Mufasa: The Lion King</td>\n",
       "      <td id=\"T_56276_row6_col1\" class=\"data row6 col1\" >150.054000</td>\n",
       "    </tr>\n",
       "    <tr>\n",
       "      <th id=\"T_56276_level0_row7\" class=\"row_heading level0 row7\" >6274</th>\n",
       "      <td id=\"T_56276_row7_col0\" class=\"data row7 col0\" >Sonic the Hedgehog 3</td>\n",
       "      <td id=\"T_56276_row7_col1\" class=\"data row7 col1\" >146.155500</td>\n",
       "    </tr>\n",
       "    <tr>\n",
       "      <th id=\"T_56276_level0_row8\" class=\"row_heading level0 row8\" >7987</th>\n",
       "      <td id=\"T_56276_row8_col0\" class=\"data row8 col0\" >The Passion of the Christ</td>\n",
       "      <td id=\"T_56276_row8_col1\" class=\"data row8 col1\" >142.002700</td>\n",
       "    </tr>\n",
       "    <tr>\n",
       "      <th id=\"T_56276_level0_row9\" class=\"row_heading level0 row9\" >4502</th>\n",
       "      <td id=\"T_56276_row9_col0\" class=\"data row9 col0\" >Mickey 17</td>\n",
       "      <td id=\"T_56276_row9_col1\" class=\"data row9 col1\" >120.554200</td>\n",
       "    </tr>\n",
       "    <tr>\n",
       "      <th id=\"T_56276_level0_row10\" class=\"row_heading level0 row10\" >7368</th>\n",
       "      <td id=\"T_56276_row10_col0\" class=\"data row10 col0\" >The Gorge</td>\n",
       "      <td id=\"T_56276_row10_col1\" class=\"data row10 col1\" >96.767000</td>\n",
       "    </tr>\n",
       "    <tr>\n",
       "      <th id=\"T_56276_level0_row11\" class=\"row_heading level0 row11\" >758</th>\n",
       "      <td id=\"T_56276_row11_col0\" class=\"data row11 col0\" >Avengers: Infinity War</td>\n",
       "      <td id=\"T_56276_row11_col1\" class=\"data row11 col1\" >87.916600</td>\n",
       "    </tr>\n",
       "    <tr>\n",
       "      <th id=\"T_56276_level0_row12\" class=\"row_heading level0 row12\" >1728</th>\n",
       "      <td id=\"T_56276_row12_col0\" class=\"data row12 col0\" >Counterattack</td>\n",
       "      <td id=\"T_56276_row12_col1\" class=\"data row12 col1\" >85.556200</td>\n",
       "    </tr>\n",
       "    <tr>\n",
       "      <th id=\"T_56276_level0_row13\" class=\"row_heading level0 row13\" >7709</th>\n",
       "      <td id=\"T_56276_row13_col0\" class=\"data row13 col0\" >The Lion King</td>\n",
       "      <td id=\"T_56276_row13_col1\" class=\"data row13 col1\" >83.060500</td>\n",
       "    </tr>\n",
       "    <tr>\n",
       "      <th id=\"T_56276_level0_row14\" class=\"row_heading level0 row14\" >4741</th>\n",
       "      <td id=\"T_56276_row14_col0\" class=\"data row14 col0\" >My Fault</td>\n",
       "      <td id=\"T_56276_row14_col1\" class=\"data row14 col1\" >74.957000</td>\n",
       "    </tr>\n",
       "    <tr>\n",
       "      <th id=\"T_56276_level0_row15\" class=\"row_heading level0 row15\" >5493</th>\n",
       "      <td id=\"T_56276_row15_col0\" class=\"data row15 col0\" >Pulp Fiction</td>\n",
       "      <td id=\"T_56276_row15_col1\" class=\"data row15 col1\" >74.677800</td>\n",
       "    </tr>\n",
       "    <tr>\n",
       "      <th id=\"T_56276_level0_row16\" class=\"row_heading level0 row16\" >8984</th>\n",
       "      <td id=\"T_56276_row16_col0\" class=\"data row16 col0\" >Venom: The Last Dance</td>\n",
       "      <td id=\"T_56276_row16_col1\" class=\"data row16 col1\" >72.326600</td>\n",
       "    </tr>\n",
       "    <tr>\n",
       "      <th id=\"T_56276_level0_row17\" class=\"row_heading level0 row17\" >954</th>\n",
       "      <td id=\"T_56276_row17_col0\" class=\"data row17 col0\" >Beauty and the Beast</td>\n",
       "      <td id=\"T_56276_row17_col1\" class=\"data row17 col1\" >72.230200</td>\n",
       "    </tr>\n",
       "    <tr>\n",
       "      <th id=\"T_56276_level0_row18\" class=\"row_heading level0 row18\" >1905</th>\n",
       "      <td id=\"T_56276_row18_col0\" class=\"data row18 col0\" >Deadpool & Wolverine</td>\n",
       "      <td id=\"T_56276_row18_col1\" class=\"data row18 col1\" >72.177300</td>\n",
       "    </tr>\n",
       "    <tr>\n",
       "      <th id=\"T_56276_level0_row19\" class=\"row_heading level0 row19\" >4466</th>\n",
       "      <td id=\"T_56276_row19_col0\" class=\"data row19 col0\" >Memoir of a Snail</td>\n",
       "      <td id=\"T_56276_row19_col1\" class=\"data row19 col1\" >69.485800</td>\n",
       "    </tr>\n",
       "    <tr>\n",
       "      <th id=\"T_56276_level0_row20\" class=\"row_heading level0 row20\" >1986</th>\n",
       "      <td id=\"T_56276_row20_col0\" class=\"data row20 col0\" >Despicable Me 4</td>\n",
       "      <td id=\"T_56276_row20_col1\" class=\"data row20 col1\" >68.137900</td>\n",
       "    </tr>\n",
       "    <tr>\n",
       "      <th id=\"T_56276_level0_row21\" class=\"row_heading level0 row21\" >3905</th>\n",
       "      <td id=\"T_56276_row21_col0\" class=\"data row21 col0\" >Kraven the Hunter</td>\n",
       "      <td id=\"T_56276_row21_col1\" class=\"data row21 col1\" >67.082600</td>\n",
       "    </tr>\n",
       "    <tr>\n",
       "      <th id=\"T_56276_level0_row22\" class=\"row_heading level0 row22\" >7364</th>\n",
       "      <td id=\"T_56276_row22_col0\" class=\"data row22 col0\" >The Good, the Bad and the Ugly</td>\n",
       "      <td id=\"T_56276_row22_col1\" class=\"data row22 col1\" >62.878400</td>\n",
       "    </tr>\n",
       "    <tr>\n",
       "      <th id=\"T_56276_level0_row23\" class=\"row_heading level0 row23\" >2594</th>\n",
       "      <td id=\"T_56276_row23_col0\" class=\"data row23 col0\" >Flow</td>\n",
       "      <td id=\"T_56276_row23_col1\" class=\"data row23 col1\" >62.339300</td>\n",
       "    </tr>\n",
       "    <tr>\n",
       "      <th id=\"T_56276_level0_row24\" class=\"row_heading level0 row24\" >1678</th>\n",
       "      <td id=\"T_56276_row24_col0\" class=\"data row24 col0\" >Companion</td>\n",
       "      <td id=\"T_56276_row24_col1\" class=\"data row24 col1\" >61.022000</td>\n",
       "    </tr>\n",
       "  </tbody>\n",
       "</table>\n"
      ],
      "text/plain": [
       "<pandas.io.formats.style.Styler at 0x20da056cbc0>"
      ]
     },
     "execution_count": 294,
     "metadata": {},
     "output_type": "execute_result"
    }
   ],
   "source": [
    "popu_film=df.groupby(\"title\")[\"popularity\"].sum().reset_index()\n",
    "popu_film.sort_values(by=\"popularity\",ascending=False,inplace=True)\n",
    "popu_film.head(25).style.background_gradient(cmap=\"Reds\")"
   ]
  },
  {
   "cell_type": "code",
   "execution_count": 295,
   "id": "5c5cf304",
   "metadata": {},
   "outputs": [
    {
     "data": {
      "text/html": [
       "<div>\n",
       "<style scoped>\n",
       "    .dataframe tbody tr th:only-of-type {\n",
       "        vertical-align: middle;\n",
       "    }\n",
       "\n",
       "    .dataframe tbody tr th {\n",
       "        vertical-align: top;\n",
       "    }\n",
       "\n",
       "    .dataframe thead th {\n",
       "        text-align: right;\n",
       "    }\n",
       "</style>\n",
       "<table border=\"1\" class=\"dataframe\">\n",
       "  <thead>\n",
       "    <tr style=\"text-align: right;\">\n",
       "      <th></th>\n",
       "      <th>title</th>\n",
       "      <th>popularity</th>\n",
       "    </tr>\n",
       "  </thead>\n",
       "  <tbody>\n",
       "    <tr>\n",
       "      <th>240</th>\n",
       "      <td>A Minecraft Movie</td>\n",
       "      <td>517.5425</td>\n",
       "    </tr>\n",
       "    <tr>\n",
       "      <th>1414</th>\n",
       "      <td>Captain America: Brave New World</td>\n",
       "      <td>329.1585</td>\n",
       "    </tr>\n",
       "    <tr>\n",
       "      <th>2754</th>\n",
       "      <td>G20</td>\n",
       "      <td>288.9191</td>\n",
       "    </tr>\n",
       "    <tr>\n",
       "      <th>4968</th>\n",
       "      <td>Novocaine</td>\n",
       "      <td>272.9012</td>\n",
       "    </tr>\n",
       "    <tr>\n",
       "      <th>1684</th>\n",
       "      <td>Conclave</td>\n",
       "      <td>172.3536</td>\n",
       "    </tr>\n",
       "    <tr>\n",
       "      <th>4592</th>\n",
       "      <td>Moana 2</td>\n",
       "      <td>160.0249</td>\n",
       "    </tr>\n",
       "    <tr>\n",
       "      <th>4689</th>\n",
       "      <td>Mufasa: The Lion King</td>\n",
       "      <td>150.0540</td>\n",
       "    </tr>\n",
       "    <tr>\n",
       "      <th>6274</th>\n",
       "      <td>Sonic the Hedgehog 3</td>\n",
       "      <td>146.1555</td>\n",
       "    </tr>\n",
       "    <tr>\n",
       "      <th>7987</th>\n",
       "      <td>The Passion of the Christ</td>\n",
       "      <td>142.0027</td>\n",
       "    </tr>\n",
       "    <tr>\n",
       "      <th>4502</th>\n",
       "      <td>Mickey 17</td>\n",
       "      <td>120.5542</td>\n",
       "    </tr>\n",
       "    <tr>\n",
       "      <th>7368</th>\n",
       "      <td>The Gorge</td>\n",
       "      <td>96.7670</td>\n",
       "    </tr>\n",
       "    <tr>\n",
       "      <th>758</th>\n",
       "      <td>Avengers: Infinity War</td>\n",
       "      <td>87.9166</td>\n",
       "    </tr>\n",
       "    <tr>\n",
       "      <th>1728</th>\n",
       "      <td>Counterattack</td>\n",
       "      <td>85.5562</td>\n",
       "    </tr>\n",
       "    <tr>\n",
       "      <th>7709</th>\n",
       "      <td>The Lion King</td>\n",
       "      <td>83.0605</td>\n",
       "    </tr>\n",
       "    <tr>\n",
       "      <th>4741</th>\n",
       "      <td>My Fault</td>\n",
       "      <td>74.9570</td>\n",
       "    </tr>\n",
       "    <tr>\n",
       "      <th>5493</th>\n",
       "      <td>Pulp Fiction</td>\n",
       "      <td>74.6778</td>\n",
       "    </tr>\n",
       "    <tr>\n",
       "      <th>8984</th>\n",
       "      <td>Venom: The Last Dance</td>\n",
       "      <td>72.3266</td>\n",
       "    </tr>\n",
       "    <tr>\n",
       "      <th>954</th>\n",
       "      <td>Beauty and the Beast</td>\n",
       "      <td>72.2302</td>\n",
       "    </tr>\n",
       "    <tr>\n",
       "      <th>1905</th>\n",
       "      <td>Deadpool &amp; Wolverine</td>\n",
       "      <td>72.1773</td>\n",
       "    </tr>\n",
       "    <tr>\n",
       "      <th>4466</th>\n",
       "      <td>Memoir of a Snail</td>\n",
       "      <td>69.4858</td>\n",
       "    </tr>\n",
       "    <tr>\n",
       "      <th>1986</th>\n",
       "      <td>Despicable Me 4</td>\n",
       "      <td>68.1379</td>\n",
       "    </tr>\n",
       "    <tr>\n",
       "      <th>3905</th>\n",
       "      <td>Kraven the Hunter</td>\n",
       "      <td>67.0826</td>\n",
       "    </tr>\n",
       "    <tr>\n",
       "      <th>7364</th>\n",
       "      <td>The Good, the Bad and the Ugly</td>\n",
       "      <td>62.8784</td>\n",
       "    </tr>\n",
       "    <tr>\n",
       "      <th>2594</th>\n",
       "      <td>Flow</td>\n",
       "      <td>62.3393</td>\n",
       "    </tr>\n",
       "    <tr>\n",
       "      <th>1678</th>\n",
       "      <td>Companion</td>\n",
       "      <td>61.0220</td>\n",
       "    </tr>\n",
       "  </tbody>\n",
       "</table>\n",
       "</div>"
      ],
      "text/plain": [
       "                                 title  popularity\n",
       "240                  A Minecraft Movie    517.5425\n",
       "1414  Captain America: Brave New World    329.1585\n",
       "2754                               G20    288.9191\n",
       "4968                         Novocaine    272.9012\n",
       "1684                          Conclave    172.3536\n",
       "4592                           Moana 2    160.0249\n",
       "4689             Mufasa: The Lion King    150.0540\n",
       "6274              Sonic the Hedgehog 3    146.1555\n",
       "7987         The Passion of the Christ    142.0027\n",
       "4502                         Mickey 17    120.5542\n",
       "7368                         The Gorge     96.7670\n",
       "758             Avengers: Infinity War     87.9166\n",
       "1728                     Counterattack     85.5562\n",
       "7709                     The Lion King     83.0605\n",
       "4741                          My Fault     74.9570\n",
       "5493                      Pulp Fiction     74.6778\n",
       "8984             Venom: The Last Dance     72.3266\n",
       "954               Beauty and the Beast     72.2302\n",
       "1905              Deadpool & Wolverine     72.1773\n",
       "4466                 Memoir of a Snail     69.4858\n",
       "1986                   Despicable Me 4     68.1379\n",
       "3905                 Kraven the Hunter     67.0826\n",
       "7364    The Good, the Bad and the Ugly     62.8784\n",
       "2594                              Flow     62.3393\n",
       "1678                         Companion     61.0220"
      ]
     },
     "execution_count": 295,
     "metadata": {},
     "output_type": "execute_result"
    }
   ],
   "source": [
    "popu_filmx=popu_film.nlargest(25,\"popularity\")\n",
    "popu_filmx"
   ]
  },
  {
   "cell_type": "code",
   "execution_count": 296,
   "id": "4ade29cd",
   "metadata": {},
   "outputs": [
    {
     "data": {
      "text/html": [
       "<div>\n",
       "<style scoped>\n",
       "    .dataframe tbody tr th:only-of-type {\n",
       "        vertical-align: middle;\n",
       "    }\n",
       "\n",
       "    .dataframe tbody tr th {\n",
       "        vertical-align: top;\n",
       "    }\n",
       "\n",
       "    .dataframe thead th {\n",
       "        text-align: right;\n",
       "    }\n",
       "</style>\n",
       "<table border=\"1\" class=\"dataframe\">\n",
       "  <thead>\n",
       "    <tr style=\"text-align: right;\">\n",
       "      <th></th>\n",
       "      <th>original_language</th>\n",
       "      <th>release_date</th>\n",
       "      <th>title</th>\n",
       "      <th>popularity</th>\n",
       "      <th>vote_average</th>\n",
       "      <th>vote_count</th>\n",
       "    </tr>\n",
       "  </thead>\n",
       "  <tbody>\n",
       "    <tr>\n",
       "      <th>7267</th>\n",
       "      <td>en</td>\n",
       "      <td>2025-03-31</td>\n",
       "      <td>A Minecraft Movie</td>\n",
       "      <td>517.5425</td>\n",
       "      <td>6.2</td>\n",
       "      <td>705</td>\n",
       "    </tr>\n",
       "  </tbody>\n",
       "</table>\n",
       "</div>"
      ],
      "text/plain": [
       "     original_language release_date              title  popularity  \\\n",
       "7267                en   2025-03-31  A Minecraft Movie    517.5425   \n",
       "\n",
       "      vote_average  vote_count  \n",
       "7267           6.2         705  "
      ]
     },
     "execution_count": 296,
     "metadata": {},
     "output_type": "execute_result"
    }
   ],
   "source": [
    "df[df[\"title\"] == \"#Alive\"]\n",
    "df[df[\"title\"]==\"A Minecraft Movie\"] #Highest Popularity Movie"
   ]
  },
  {
   "cell_type": "markdown",
   "id": "ed2e685c",
   "metadata": {},
   "source": [
    "## Visualization"
   ]
  },
  {
   "cell_type": "code",
   "execution_count": 297,
   "id": "d78df8a6",
   "metadata": {},
   "outputs": [
    {
     "name": "stderr",
     "output_type": "stream",
     "text": [
      "C:\\Users\\user\\AppData\\Local\\Temp\\ipykernel_20836\\1265543478.py:4: FutureWarning: \n",
      "\n",
      "Passing `palette` without assigning `hue` is deprecated and will be removed in v0.14.0. Assign the `x` variable to `hue` and set `legend=False` for the same effect.\n",
      "\n",
      "  sns.barplot(data=popu_filmx,x=\"title\",y=\"popularity\",palette=\"Paired\")\n"
     ]
    },
    {
     "data": {
      "image/png": "[encoded data removed]",
      "text/plain": [
       "<Figure size 1000x600 with 1 Axes>"
      ]
     },
     "metadata": {},
     "output_type": "display_data"
    }
   ],
   "source": [
    "#Visualization\n",
    "plt.figure(figsize=(10,6))\n",
    "sns.set_style(\"whitegrid\")\n",
    "sns.barplot(data=popu_filmx,x=\"title\",y=\"popularity\",palette=\"Paired\")\n",
    "plt.xticks(rotation=90 )\n",
    "plt.xlabel(\"Name Of The Movies\",fontweight=12,fontsize=12)\n",
    "plt.ylabel(\"Popularity Of The Movies\",fontweight=\"bold\",fontsize=12)\n",
    "plt.title(\"Top 25 Films Based On Their Popularity\",fontsize=15,fontweight=\"bold\")\n",
    "plt.show()"
   ]
  },
  {
   "cell_type": "code",
   "execution_count": 298,
   "id": "d25ac53c",
   "metadata": {},
   "outputs": [
    {
     "data": {
      "text/html": [
       "<style type=\"text/css\">\n",
       "#T_194e3_row0_col1 {\n",
       "  background-color: #08306b;\n",
       "  color: #f1f1f1;\n",
       "}\n",
       "#T_194e3_row1_col1 {\n",
       "  background-color: #e7f0fa;\n",
       "  color: #000000;\n",
       "}\n",
       "#T_194e3_row2_col1 {\n",
       "  background-color: #eef5fc;\n",
       "  color: #000000;\n",
       "}\n",
       "#T_194e3_row3_col1 {\n",
       "  background-color: #f0f6fd;\n",
       "  color: #000000;\n",
       "}\n",
       "#T_194e3_row4_col1 {\n",
       "  background-color: #f3f8fe;\n",
       "  color: #000000;\n",
       "}\n",
       "#T_194e3_row5_col1 {\n",
       "  background-color: #f5f9fe;\n",
       "  color: #000000;\n",
       "}\n",
       "#T_194e3_row6_col1 {\n",
       "  background-color: #f5fafe;\n",
       "  color: #000000;\n",
       "}\n",
       "#T_194e3_row7_col1, #T_194e3_row8_col1, #T_194e3_row9_col1, #T_194e3_row10_col1 {\n",
       "  background-color: #f6faff;\n",
       "  color: #000000;\n",
       "}\n",
       "#T_194e3_row11_col1, #T_194e3_row12_col1, #T_194e3_row13_col1, #T_194e3_row14_col1, #T_194e3_row15_col1, #T_194e3_row16_col1, #T_194e3_row17_col1, #T_194e3_row18_col1, #T_194e3_row19_col1, #T_194e3_row20_col1, #T_194e3_row21_col1, #T_194e3_row22_col1, #T_194e3_row23_col1, #T_194e3_row24_col1 {\n",
       "  background-color: #f7fbff;\n",
       "  color: #000000;\n",
       "}\n",
       "</style>\n",
       "<table id=\"T_194e3\">\n",
       "  <thead>\n",
       "    <tr>\n",
       "      <th class=\"blank level0\" >&nbsp;</th>\n",
       "      <th id=\"T_194e3_level0_col0\" class=\"col_heading level0 col0\" >original_language</th>\n",
       "      <th id=\"T_194e3_level0_col1\" class=\"col_heading level0 col1\" >count</th>\n",
       "    </tr>\n",
       "  </thead>\n",
       "  <tbody>\n",
       "    <tr>\n",
       "      <th id=\"T_194e3_level0_row0\" class=\"row_heading level0 row0\" >0</th>\n",
       "      <td id=\"T_194e3_row0_col0\" class=\"data row0 col0\" >en</td>\n",
       "      <td id=\"T_194e3_row0_col1\" class=\"data row0 col1\" >7716</td>\n",
       "    </tr>\n",
       "    <tr>\n",
       "      <th id=\"T_194e3_level0_row1\" class=\"row_heading level0 row1\" >1</th>\n",
       "      <td id=\"T_194e3_row1_col0\" class=\"data row1 col0\" >fr</td>\n",
       "      <td id=\"T_194e3_row1_col1\" class=\"data row1 col1\" >637</td>\n",
       "    </tr>\n",
       "    <tr>\n",
       "      <th id=\"T_194e3_level0_row2\" class=\"row_heading level0 row2\" >2</th>\n",
       "      <td id=\"T_194e3_row2_col0\" class=\"data row2 col0\" >it</td>\n",
       "      <td id=\"T_194e3_row2_col1\" class=\"data row2 col1\" >349</td>\n",
       "    </tr>\n",
       "    <tr>\n",
       "      <th id=\"T_194e3_level0_row3\" class=\"row_heading level0 row3\" >3</th>\n",
       "      <td id=\"T_194e3_row3_col0\" class=\"data row3 col0\" >ja</td>\n",
       "      <td id=\"T_194e3_row3_col1\" class=\"data row3 col1\" >281</td>\n",
       "    </tr>\n",
       "    <tr>\n",
       "      <th id=\"T_194e3_level0_row4\" class=\"row_heading level0 row4\" >4</th>\n",
       "      <td id=\"T_194e3_row4_col0\" class=\"data row4 col0\" >es</td>\n",
       "      <td id=\"T_194e3_row4_col1\" class=\"data row4 col1\" >182</td>\n",
       "    </tr>\n",
       "    <tr>\n",
       "      <th id=\"T_194e3_level0_row5\" class=\"row_heading level0 row5\" >5</th>\n",
       "      <td id=\"T_194e3_row5_col0\" class=\"data row5 col0\" >de</td>\n",
       "      <td id=\"T_194e3_row5_col1\" class=\"data row5 col1\" >97</td>\n",
       "    </tr>\n",
       "    <tr>\n",
       "      <th id=\"T_194e3_level0_row6\" class=\"row_heading level0 row6\" >6</th>\n",
       "      <td id=\"T_194e3_row6_col0\" class=\"data row6 col0\" >ko</td>\n",
       "      <td id=\"T_194e3_row6_col1\" class=\"data row6 col1\" >86</td>\n",
       "    </tr>\n",
       "    <tr>\n",
       "      <th id=\"T_194e3_level0_row7\" class=\"row_heading level0 row7\" >7</th>\n",
       "      <td id=\"T_194e3_row7_col0\" class=\"data row7 col0\" >zh</td>\n",
       "      <td id=\"T_194e3_row7_col1\" class=\"data row7 col1\" >60</td>\n",
       "    </tr>\n",
       "    <tr>\n",
       "      <th id=\"T_194e3_level0_row8\" class=\"row_heading level0 row8\" >8</th>\n",
       "      <td id=\"T_194e3_row8_col0\" class=\"data row8 col0\" >cn</td>\n",
       "      <td id=\"T_194e3_row8_col1\" class=\"data row8 col1\" >56</td>\n",
       "    </tr>\n",
       "    <tr>\n",
       "      <th id=\"T_194e3_level0_row9\" class=\"row_heading level0 row9\" >9</th>\n",
       "      <td id=\"T_194e3_row9_col0\" class=\"data row9 col0\" >ru</td>\n",
       "      <td id=\"T_194e3_row9_col1\" class=\"data row9 col1\" >48</td>\n",
       "    </tr>\n",
       "    <tr>\n",
       "      <th id=\"T_194e3_level0_row10\" class=\"row_heading level0 row10\" >10</th>\n",
       "      <td id=\"T_194e3_row10_col0\" class=\"data row10 col0\" >sv</td>\n",
       "      <td id=\"T_194e3_row10_col1\" class=\"data row10 col1\" >37</td>\n",
       "    </tr>\n",
       "    <tr>\n",
       "      <th id=\"T_194e3_level0_row11\" class=\"row_heading level0 row11\" >11</th>\n",
       "      <td id=\"T_194e3_row11_col0\" class=\"data row11 col0\" >hi</td>\n",
       "      <td id=\"T_194e3_row11_col1\" class=\"data row11 col1\" >32</td>\n",
       "    </tr>\n",
       "    <tr>\n",
       "      <th id=\"T_194e3_level0_row12\" class=\"row_heading level0 row12\" >12</th>\n",
       "      <td id=\"T_194e3_row12_col0\" class=\"data row12 col0\" >pt</td>\n",
       "      <td id=\"T_194e3_row12_col1\" class=\"data row12 col1\" >31</td>\n",
       "    </tr>\n",
       "    <tr>\n",
       "      <th id=\"T_194e3_level0_row13\" class=\"row_heading level0 row13\" >13</th>\n",
       "      <td id=\"T_194e3_row13_col0\" class=\"data row13 col0\" >da</td>\n",
       "      <td id=\"T_194e3_row13_col1\" class=\"data row13 col1\" >29</td>\n",
       "    </tr>\n",
       "    <tr>\n",
       "      <th id=\"T_194e3_level0_row14\" class=\"row_heading level0 row14\" >14</th>\n",
       "      <td id=\"T_194e3_row14_col0\" class=\"data row14 col0\" >no</td>\n",
       "      <td id=\"T_194e3_row14_col1\" class=\"data row14 col1\" >22</td>\n",
       "    </tr>\n",
       "    <tr>\n",
       "      <th id=\"T_194e3_level0_row15\" class=\"row_heading level0 row15\" >15</th>\n",
       "      <td id=\"T_194e3_row15_col0\" class=\"data row15 col0\" >pl</td>\n",
       "      <td id=\"T_194e3_row15_col1\" class=\"data row15 col1\" >19</td>\n",
       "    </tr>\n",
       "    <tr>\n",
       "      <th id=\"T_194e3_level0_row16\" class=\"row_heading level0 row16\" >16</th>\n",
       "      <td id=\"T_194e3_row16_col0\" class=\"data row16 col0\" >tr</td>\n",
       "      <td id=\"T_194e3_row16_col1\" class=\"data row16 col1\" >12</td>\n",
       "    </tr>\n",
       "    <tr>\n",
       "      <th id=\"T_194e3_level0_row17\" class=\"row_heading level0 row17\" >17</th>\n",
       "      <td id=\"T_194e3_row17_col0\" class=\"data row17 col0\" >nl</td>\n",
       "      <td id=\"T_194e3_row17_col1\" class=\"data row17 col1\" >12</td>\n",
       "    </tr>\n",
       "    <tr>\n",
       "      <th id=\"T_194e3_level0_row18\" class=\"row_heading level0 row18\" >18</th>\n",
       "      <td id=\"T_194e3_row18_col0\" class=\"data row18 col0\" >fa</td>\n",
       "      <td id=\"T_194e3_row18_col1\" class=\"data row18 col1\" >10</td>\n",
       "    </tr>\n",
       "    <tr>\n",
       "      <th id=\"T_194e3_level0_row19\" class=\"row_heading level0 row19\" >19</th>\n",
       "      <td id=\"T_194e3_row19_col0\" class=\"data row19 col0\" >th</td>\n",
       "      <td id=\"T_194e3_row19_col1\" class=\"data row19 col1\" >10</td>\n",
       "    </tr>\n",
       "    <tr>\n",
       "      <th id=\"T_194e3_level0_row20\" class=\"row_heading level0 row20\" >20</th>\n",
       "      <td id=\"T_194e3_row20_col0\" class=\"data row20 col0\" >fi</td>\n",
       "      <td id=\"T_194e3_row20_col1\" class=\"data row20 col1\" >9</td>\n",
       "    </tr>\n",
       "    <tr>\n",
       "      <th id=\"T_194e3_level0_row21\" class=\"row_heading level0 row21\" >21</th>\n",
       "      <td id=\"T_194e3_row21_col0\" class=\"data row21 col0\" >hu</td>\n",
       "      <td id=\"T_194e3_row21_col1\" class=\"data row21 col1\" >6</td>\n",
       "    </tr>\n",
       "    <tr>\n",
       "      <th id=\"T_194e3_level0_row22\" class=\"row_heading level0 row22\" >22</th>\n",
       "      <td id=\"T_194e3_row22_col0\" class=\"data row22 col0\" >id</td>\n",
       "      <td id=\"T_194e3_row22_col1\" class=\"data row22 col1\" >5</td>\n",
       "    </tr>\n",
       "    <tr>\n",
       "      <th id=\"T_194e3_level0_row23\" class=\"row_heading level0 row23\" >23</th>\n",
       "      <td id=\"T_194e3_row23_col0\" class=\"data row23 col0\" >el</td>\n",
       "      <td id=\"T_194e3_row23_col1\" class=\"data row23 col1\" >4</td>\n",
       "    </tr>\n",
       "    <tr>\n",
       "      <th id=\"T_194e3_level0_row24\" class=\"row_heading level0 row24\" >24</th>\n",
       "      <td id=\"T_194e3_row24_col0\" class=\"data row24 col0\" >sr</td>\n",
       "      <td id=\"T_194e3_row24_col1\" class=\"data row24 col1\" >4</td>\n",
       "    </tr>\n",
       "  </tbody>\n",
       "</table>\n"
      ],
      "text/plain": [
       "<pandas.io.formats.style.Styler at 0x20d8a473b60>"
      ]
     },
     "execution_count": 298,
     "metadata": {},
     "output_type": "execute_result"
    }
   ],
   "source": [
    "lang_classifi=df[\"original_language\"].value_counts().reset_index()\n",
    "lang_classifi.head(25).style.background_gradient(cmap=\"Blues\")\n"
   ]
  },
  {
   "cell_type": "code",
   "execution_count": 299,
   "id": "12e650ba",
   "metadata": {},
   "outputs": [
    {
     "data": {
      "image/png": "[encoded data removed]",
      "text/plain": [
       "<Figure size 1000x600 with 1 Axes>"
      ]
     },
     "metadata": {},
     "output_type": "display_data"
    }
   ],
   "source": [
    "lang_classifi = df[\"original_language\"].value_counts().reset_index()\n",
    "lang_classifi.columns = [\"Language\", \"Count\"]\n",
    "lang_classifix=lang_classifi.nlargest(25,\"Count\")\n",
    "plt.figure(figsize=(10,6))\n",
    "sns.barplot(x=\"Language\", y=\"Count\", data=lang_classifix)\n",
    "plt.xticks(rotation=90)  # Rotate labels for better readability\n",
    "plt.title(\"Distribution of Top 25 Languages For Movies\",fontsize=15,fontweight=\"bold\")\n",
    "plt.xlabel(\"Movie Original Language\",fontsize=12,fontweight=\"bold\")\n",
    "plt.ylabel(\"Language Count\",fontsize=12,fontweight=\"bold\")\n",
    "plt.show()\n"
   ]
  },
  {
   "cell_type": "code",
   "execution_count": 300,
   "id": "efe24df9",
   "metadata": {},
   "outputs": [
    {
     "data": {
      "text/html": [
       "<div>\n",
       "<style scoped>\n",
       "    .dataframe tbody tr th:only-of-type {\n",
       "        vertical-align: middle;\n",
       "    }\n",
       "\n",
       "    .dataframe tbody tr th {\n",
       "        vertical-align: top;\n",
       "    }\n",
       "\n",
       "    .dataframe thead th {\n",
       "        text-align: right;\n",
       "    }\n",
       "</style>\n",
       "<table border=\"1\" class=\"dataframe\">\n",
       "  <thead>\n",
       "    <tr style=\"text-align: right;\">\n",
       "      <th></th>\n",
       "      <th>title</th>\n",
       "      <th>release_date</th>\n",
       "    </tr>\n",
       "  </thead>\n",
       "  <tbody>\n",
       "    <tr>\n",
       "      <th>0</th>\n",
       "      <td>G20</td>\n",
       "      <td>2025-04-09</td>\n",
       "    </tr>\n",
       "    <tr>\n",
       "      <th>1</th>\n",
       "      <td>A Minecraft Movie</td>\n",
       "      <td>2025-03-31</td>\n",
       "    </tr>\n",
       "    <tr>\n",
       "      <th>2</th>\n",
       "      <td>The Life List</td>\n",
       "      <td>2025-03-27</td>\n",
       "    </tr>\n",
       "    <tr>\n",
       "      <th>3</th>\n",
       "      <td>Novocaine</td>\n",
       "      <td>2025-03-12</td>\n",
       "    </tr>\n",
       "    <tr>\n",
       "      <th>4</th>\n",
       "      <td>Black Bag</td>\n",
       "      <td>2025-03-12</td>\n",
       "    </tr>\n",
       "    <tr>\n",
       "      <th>5</th>\n",
       "      <td>Holland</td>\n",
       "      <td>2025-03-09</td>\n",
       "    </tr>\n",
       "    <tr>\n",
       "      <th>6</th>\n",
       "      <td>The Electric State</td>\n",
       "      <td>2025-03-07</td>\n",
       "    </tr>\n",
       "    <tr>\n",
       "      <th>7</th>\n",
       "      <td>Mickey 17</td>\n",
       "      <td>2025-02-28</td>\n",
       "    </tr>\n",
       "    <tr>\n",
       "      <th>8</th>\n",
       "      <td>Counterattack</td>\n",
       "      <td>2025-02-27</td>\n",
       "    </tr>\n",
       "    <tr>\n",
       "      <th>9</th>\n",
       "      <td>The Monkey</td>\n",
       "      <td>2025-02-14</td>\n",
       "    </tr>\n",
       "    <tr>\n",
       "      <th>10</th>\n",
       "      <td>The Gorge</td>\n",
       "      <td>2025-02-13</td>\n",
       "    </tr>\n",
       "    <tr>\n",
       "      <th>11</th>\n",
       "      <td>My Fault: London</td>\n",
       "      <td>2025-02-12</td>\n",
       "    </tr>\n",
       "    <tr>\n",
       "      <th>12</th>\n",
       "      <td>Captain America: Brave New World</td>\n",
       "      <td>2025-02-12</td>\n",
       "    </tr>\n",
       "    <tr>\n",
       "      <th>13</th>\n",
       "      <td>You're Cordially Invited</td>\n",
       "      <td>2025-01-29</td>\n",
       "    </tr>\n",
       "    <tr>\n",
       "      <th>14</th>\n",
       "      <td>Companion</td>\n",
       "      <td>2025-01-22</td>\n",
       "    </tr>\n",
       "    <tr>\n",
       "      <th>15</th>\n",
       "      <td>Back in Action</td>\n",
       "      <td>2025-01-15</td>\n",
       "    </tr>\n",
       "    <tr>\n",
       "      <th>16</th>\n",
       "      <td>Wolf Man</td>\n",
       "      <td>2025-01-15</td>\n",
       "    </tr>\n",
       "    <tr>\n",
       "      <th>17</th>\n",
       "      <td>Ad Vitam</td>\n",
       "      <td>2025-01-09</td>\n",
       "    </tr>\n",
       "    <tr>\n",
       "      <th>18</th>\n",
       "      <td>Nosferatu</td>\n",
       "      <td>2024-12-25</td>\n",
       "    </tr>\n",
       "    <tr>\n",
       "      <th>19</th>\n",
       "      <td>Babygirl</td>\n",
       "      <td>2024-12-25</td>\n",
       "    </tr>\n",
       "    <tr>\n",
       "      <th>20</th>\n",
       "      <td>The Brutalist</td>\n",
       "      <td>2024-12-20</td>\n",
       "    </tr>\n",
       "    <tr>\n",
       "      <th>21</th>\n",
       "      <td>The Brutalist</td>\n",
       "      <td>2024-12-20</td>\n",
       "    </tr>\n",
       "    <tr>\n",
       "      <th>22</th>\n",
       "      <td>Sonic the Hedgehog 3</td>\n",
       "      <td>2024-12-19</td>\n",
       "    </tr>\n",
       "    <tr>\n",
       "      <th>23</th>\n",
       "      <td>Wallace &amp; Gromit: Vengeance Most Fowl</td>\n",
       "      <td>2024-12-18</td>\n",
       "    </tr>\n",
       "    <tr>\n",
       "      <th>24</th>\n",
       "      <td>Mufasa: The Lion King</td>\n",
       "      <td>2024-12-18</td>\n",
       "    </tr>\n",
       "  </tbody>\n",
       "</table>\n",
       "</div>"
      ],
      "text/plain": [
       "                                    title release_date\n",
       "0                                     G20   2025-04-09\n",
       "1                       A Minecraft Movie   2025-03-31\n",
       "2                           The Life List   2025-03-27\n",
       "3                               Novocaine   2025-03-12\n",
       "4                               Black Bag   2025-03-12\n",
       "5                                 Holland   2025-03-09\n",
       "6                      The Electric State   2025-03-07\n",
       "7                               Mickey 17   2025-02-28\n",
       "8                           Counterattack   2025-02-27\n",
       "9                              The Monkey   2025-02-14\n",
       "10                              The Gorge   2025-02-13\n",
       "11                       My Fault: London   2025-02-12\n",
       "12       Captain America: Brave New World   2025-02-12\n",
       "13               You're Cordially Invited   2025-01-29\n",
       "14                              Companion   2025-01-22\n",
       "15                         Back in Action   2025-01-15\n",
       "16                               Wolf Man   2025-01-15\n",
       "17                               Ad Vitam   2025-01-09\n",
       "18                              Nosferatu   2024-12-25\n",
       "19                               Babygirl   2024-12-25\n",
       "20                          The Brutalist   2024-12-20\n",
       "21                          The Brutalist   2024-12-20\n",
       "22                   Sonic the Hedgehog 3   2024-12-19\n",
       "23  Wallace & Gromit: Vengeance Most Fowl   2024-12-18\n",
       "24                  Mufasa: The Lion King   2024-12-18"
      ]
     },
     "execution_count": 300,
     "metadata": {},
     "output_type": "execute_result"
    }
   ],
   "source": [
    "#Recentle released movies \n",
    "Recent_release=df.nlargest(25,\"release_date\").reset_index()\n",
    "Recent_release[[\"title\",\"release_date\"]]\n"
   ]
  },
  {
   "cell_type": "code",
   "execution_count": 301,
   "id": "9de0e9b9",
   "metadata": {},
   "outputs": [
    {
     "data": {
      "image/png": "[encoded data removed]",
      "text/plain": [
       "<Figure size 1200x600 with 1 Axes>"
      ]
     },
     "metadata": {},
     "output_type": "display_data"
    }
   ],
   "source": [
    "#Visualization of recently released movies \n",
    "plt.figure(figsize=(12,6))\n",
    "sns.set_style(\"whitegrid\")\n",
    "sns.scatterplot(data=Recent_release,x=\"release_date\",y=\"title\",edgecolors=\"black\",s=50)\n",
    "plt.xlabel(\"Release Date\",fontsize=12,fontweight=\"bold\")\n",
    "plt.ylabel(\"Movies Name\",fontsize=12,fontweight=\"bold\")\n",
    "plt.title(\"Recently Released 25 Movies\",fontsize=15,fontweight=\"bold\")\n",
    "plt.show()"
   ]
  },
  {
   "cell_type": "markdown",
   "id": "085428b2",
   "metadata": {},
   "source": [
    "## Machine Learning"
   ]
  },
  {
   "cell_type": "code",
   "execution_count": 302,
   "id": "2cfc6d9f",
   "metadata": {},
   "outputs": [
    {
     "data": {
      "text/html": [
       "<div>\n",
       "<style scoped>\n",
       "    .dataframe tbody tr th:only-of-type {\n",
       "        vertical-align: middle;\n",
       "    }\n",
       "\n",
       "    .dataframe tbody tr th {\n",
       "        vertical-align: top;\n",
       "    }\n",
       "\n",
       "    .dataframe thead th {\n",
       "        text-align: right;\n",
       "    }\n",
       "</style>\n",
       "<table border=\"1\" class=\"dataframe\">\n",
       "  <thead>\n",
       "    <tr style=\"text-align: right;\">\n",
       "      <th></th>\n",
       "      <th>original_language</th>\n",
       "      <th>release_date</th>\n",
       "      <th>title</th>\n",
       "      <th>popularity</th>\n",
       "      <th>vote_average</th>\n",
       "      <th>vote_count</th>\n",
       "    </tr>\n",
       "  </thead>\n",
       "  <tbody>\n",
       "    <tr>\n",
       "      <th>0</th>\n",
       "      <td>en</td>\n",
       "      <td>1994-09-23</td>\n",
       "      <td>The Shawshank Redemption</td>\n",
       "      <td>35.0440</td>\n",
       "      <td>8.708</td>\n",
       "      <td>28176</td>\n",
       "    </tr>\n",
       "    <tr>\n",
       "      <th>1</th>\n",
       "      <td>en</td>\n",
       "      <td>1972-03-14</td>\n",
       "      <td>The Godfather</td>\n",
       "      <td>36.3040</td>\n",
       "      <td>8.687</td>\n",
       "      <td>21363</td>\n",
       "    </tr>\n",
       "    <tr>\n",
       "      <th>2</th>\n",
       "      <td>en</td>\n",
       "      <td>1974-12-20</td>\n",
       "      <td>The Godfather Part II</td>\n",
       "      <td>17.2441</td>\n",
       "      <td>8.570</td>\n",
       "      <td>12910</td>\n",
       "    </tr>\n",
       "    <tr>\n",
       "      <th>3</th>\n",
       "      <td>en</td>\n",
       "      <td>1993-12-15</td>\n",
       "      <td>Schindler's List</td>\n",
       "      <td>37.5490</td>\n",
       "      <td>8.564</td>\n",
       "      <td>16380</td>\n",
       "    </tr>\n",
       "    <tr>\n",
       "      <th>4</th>\n",
       "      <td>en</td>\n",
       "      <td>1957-04-10</td>\n",
       "      <td>12 Angry Men</td>\n",
       "      <td>17.0033</td>\n",
       "      <td>8.548</td>\n",
       "      <td>9091</td>\n",
       "    </tr>\n",
       "  </tbody>\n",
       "</table>\n",
       "</div>"
      ],
      "text/plain": [
       "  original_language release_date                     title  popularity  \\\n",
       "0                en   1994-09-23  The Shawshank Redemption     35.0440   \n",
       "1                en   1972-03-14             The Godfather     36.3040   \n",
       "2                en   1974-12-20     The Godfather Part II     17.2441   \n",
       "3                en   1993-12-15          Schindler's List     37.5490   \n",
       "4                en   1957-04-10              12 Angry Men     17.0033   \n",
       "\n",
       "   vote_average  vote_count  \n",
       "0         8.708       28176  \n",
       "1         8.687       21363  \n",
       "2         8.570       12910  \n",
       "3         8.564       16380  \n",
       "4         8.548        9091  "
      ]
     },
     "execution_count": 302,
     "metadata": {},
     "output_type": "execute_result"
    }
   ],
   "source": [
    "df.head(5)"
   ]
  },
  {
   "cell_type": "code",
   "execution_count": 303,
   "id": "2c35536c",
   "metadata": {},
   "outputs": [],
   "source": [
    "#Extracting Release Year And Month\n",
    "df[\"release_year\"]=df[\"release_date\"].dt.year\n",
    "df['release_month'] = df['release_date'].dt.month\n"
   ]
  },
  {
   "cell_type": "code",
   "execution_count": 304,
   "id": "4513cf16",
   "metadata": {},
   "outputs": [],
   "source": [
    "le=LabelEncoder()\n",
    "df[\"language_encoded\"]=le.fit_transform(df[\"original_language\"])"
   ]
  },
  {
   "cell_type": "code",
   "execution_count": 305,
   "id": "c591d0d6",
   "metadata": {},
   "outputs": [
    {
     "name": "stdout",
     "output_type": "stream",
     "text": [
      "<class 'pandas.core.frame.DataFrame'>\n",
      "Index: 9785 entries, 0 to 9999\n",
      "Data columns (total 9 columns):\n",
      " #   Column             Non-Null Count  Dtype         \n",
      "---  ------             --------------  -----         \n",
      " 0   original_language  9785 non-null   object        \n",
      " 1   release_date       9785 non-null   datetime64[ns]\n",
      " 2   title              9785 non-null   object        \n",
      " 3   popularity         9785 non-null   float64       \n",
      " 4   vote_average       9785 non-null   float64       \n",
      " 5   vote_count         9785 non-null   int64         \n",
      " 6   release_year       9785 non-null   int32         \n",
      " 7   release_month      9785 non-null   int32         \n",
      " 8   language_encoded   9785 non-null   int64         \n",
      "dtypes: datetime64[ns](1), float64(2), int32(2), int64(2), object(2)\n",
      "memory usage: 688.0+ KB\n"
     ]
    }
   ],
   "source": [
    "df.info()"
   ]
  },
  {
   "cell_type": "code",
   "execution_count": 306,
   "id": "83230284",
   "metadata": {},
   "outputs": [
    {
     "data": {
      "text/plain": [
       "Index(['original_language', 'release_date', 'title', 'popularity',\n",
       "       'vote_average', 'vote_count', 'release_year', 'release_month',\n",
       "       'language_encoded'],\n",
       "      dtype='object')"
      ]
     },
     "execution_count": 306,
     "metadata": {},
     "output_type": "execute_result"
    }
   ],
   "source": [
    "df.columns"
   ]
  },
  {
   "cell_type": "code",
   "execution_count": 307,
   "id": "b218a73e",
   "metadata": {},
   "outputs": [],
   "source": [
    "#Selecting Features And Target\n",
    "# Log-transform popularity\n",
    "df['log_popularity'] = np.log1p(df['popularity'])\n",
    "\n",
    "X=df.drop(columns=[\"original_language\",\"release_date\",\"title\",\"log_popularity\",\"popularity\"])\n",
    "y = df[\"log_popularity\"]"
   ]
  },
  {
   "cell_type": "code",
   "execution_count": 308,
   "id": "2fab57cb",
   "metadata": {},
   "outputs": [
    {
     "name": "stdout",
     "output_type": "stream",
     "text": [
      "vote_average        float64\n",
      "vote_count            int64\n",
      "release_year          int32\n",
      "release_month         int32\n",
      "language_encoded      int64\n",
      "dtype: object\n"
     ]
    }
   ],
   "source": [
    "print(X.dtypes)"
   ]
  },
  {
   "cell_type": "code",
   "execution_count": 309,
   "id": "e38ac4a2",
   "metadata": {},
   "outputs": [
    {
     "name": "stdout",
     "output_type": "stream",
     "text": [
      "vote_average        float64\n",
      "vote_count            int64\n",
      "release_year          int32\n",
      "release_month         int32\n",
      "language_encoded      int64\n",
      "dtype: object\n"
     ]
    }
   ],
   "source": [
    "print(X.dtypes)  # Check if all features are numerical\n"
   ]
  },
  {
   "cell_type": "code",
   "execution_count": 310,
   "id": "f28d8e78",
   "metadata": {},
   "outputs": [],
   "source": [
    "# Split into training and test datasets\n",
    "X_train,X_test,y_train,y_test=train_test_split(X,y,test_size=0.2,random_state=42)"
   ]
  },
  {
   "cell_type": "code",
   "execution_count": 311,
   "id": "c27b5fbb",
   "metadata": {},
   "outputs": [
    {
     "name": "stdout",
     "output_type": "stream",
     "text": [
      "The Mean Squard Error Score Is: 0.15\n",
      "The r2 Score Is:0.63\n"
     ]
    }
   ],
   "source": [
    "model=RandomForestRegressor(n_estimators=100,random_state=42)\n",
    "model.fit(X_train,y_train)\n",
    "y_pred=model.predict(X_test)\n",
    "\n",
    "#Evaluation\n",
    "mse=mean_squared_error(y_test,y_pred)\n",
    "r2=r2_score(y_test,y_pred)\n",
    "\n",
    "print(f\"The Mean Squard Error Score Is: {mse:.2f}\")\n",
    "print(f\"The r2 Score Is:{r2:.2f}\")\n"
   ]
  },
  {
   "cell_type": "code",
   "execution_count": 312,
   "id": "d8902214",
   "metadata": {},
   "outputs": [
    {
     "name": "stdout",
     "output_type": "stream",
     "text": [
      "The model score for x and y train is : 0.95, and The model score for x and y test is 0.63\n"
     ]
    }
   ],
   "source": [
    "m=model.score(X_train, y_train)\n",
    "n=model.score(X_test, y_test)\n",
    "print(f\"The model score for x and y train is : {m:.2f}, and The model score for x and y test is {n:.2f}\")"
   ]
  },
  {
   "cell_type": "code",
   "execution_count": 313,
   "id": "776565c8",
   "metadata": {},
   "outputs": [
    {
     "name": "stdout",
     "output_type": "stream",
     "text": [
      "Cross-Validation R² Scores: [0.65034835 0.62668832 0.58060144 0.50186255 0.3987012 ]\n",
      "Mean CV R² Score: 0.5516\n"
     ]
    }
   ],
   "source": [
    "from sklearn.model_selection import cross_val_score\n",
    "\n",
    "scores = cross_val_score(model, X, y, cv=5, scoring='r2')\n",
    "print(f\"Cross-Validation R² Scores: {scores}\")\n",
    "print(f\"Mean CV R² Score: {scores.mean():.4f}\")\n"
   ]
  },
  {
   "cell_type": "code",
   "execution_count": 314,
   "id": "0a56bb8f",
   "metadata": {},
   "outputs": [
    {
     "name": "stdout",
     "output_type": "stream",
     "text": [
      "Min popularity: 0.0075\n",
      "Max popularity: 517.5425\n",
      "Mean popularity: 5.835148359734287\n"
     ]
    }
   ],
   "source": [
    "print(\"Min popularity:\", df['popularity'].min())\n",
    "print(\"Max popularity:\", df['popularity'].max())\n",
    "print(\"Mean popularity:\", df['popularity'].mean())\n"
   ]
  },
  {
   "cell_type": "code",
   "execution_count": 315,
   "id": "29fd2b1a",
   "metadata": {},
   "outputs": [
    {
     "data": {
      "text/html": [
       "<div>\n",
       "<style scoped>\n",
       "    .dataframe tbody tr th:only-of-type {\n",
       "        vertical-align: middle;\n",
       "    }\n",
       "\n",
       "    .dataframe tbody tr th {\n",
       "        vertical-align: top;\n",
       "    }\n",
       "\n",
       "    .dataframe thead th {\n",
       "        text-align: right;\n",
       "    }\n",
       "</style>\n",
       "<table border=\"1\" class=\"dataframe\">\n",
       "  <thead>\n",
       "    <tr style=\"text-align: right;\">\n",
       "      <th></th>\n",
       "      <th>original_language</th>\n",
       "      <th>release_date</th>\n",
       "      <th>title</th>\n",
       "      <th>popularity</th>\n",
       "      <th>vote_average</th>\n",
       "      <th>vote_count</th>\n",
       "      <th>release_year</th>\n",
       "      <th>release_month</th>\n",
       "      <th>language_encoded</th>\n",
       "      <th>log_popularity</th>\n",
       "    </tr>\n",
       "  </thead>\n",
       "  <tbody>\n",
       "    <tr>\n",
       "      <th>0</th>\n",
       "      <td>en</td>\n",
       "      <td>1994-09-23</td>\n",
       "      <td>The Shawshank Redemption</td>\n",
       "      <td>35.0440</td>\n",
       "      <td>8.708</td>\n",
       "      <td>28176</td>\n",
       "      <td>1994</td>\n",
       "      <td>9</td>\n",
       "      <td>8</td>\n",
       "      <td>3.584740</td>\n",
       "    </tr>\n",
       "    <tr>\n",
       "      <th>1</th>\n",
       "      <td>en</td>\n",
       "      <td>1972-03-14</td>\n",
       "      <td>The Godfather</td>\n",
       "      <td>36.3040</td>\n",
       "      <td>8.687</td>\n",
       "      <td>21363</td>\n",
       "      <td>1972</td>\n",
       "      <td>3</td>\n",
       "      <td>8</td>\n",
       "      <td>3.619101</td>\n",
       "    </tr>\n",
       "    <tr>\n",
       "      <th>2</th>\n",
       "      <td>en</td>\n",
       "      <td>1974-12-20</td>\n",
       "      <td>The Godfather Part II</td>\n",
       "      <td>17.2441</td>\n",
       "      <td>8.570</td>\n",
       "      <td>12910</td>\n",
       "      <td>1974</td>\n",
       "      <td>12</td>\n",
       "      <td>8</td>\n",
       "      <td>2.903842</td>\n",
       "    </tr>\n",
       "    <tr>\n",
       "      <th>3</th>\n",
       "      <td>en</td>\n",
       "      <td>1993-12-15</td>\n",
       "      <td>Schindler's List</td>\n",
       "      <td>37.5490</td>\n",
       "      <td>8.564</td>\n",
       "      <td>16380</td>\n",
       "      <td>1993</td>\n",
       "      <td>12</td>\n",
       "      <td>8</td>\n",
       "      <td>3.651930</td>\n",
       "    </tr>\n",
       "    <tr>\n",
       "      <th>4</th>\n",
       "      <td>en</td>\n",
       "      <td>1957-04-10</td>\n",
       "      <td>12 Angry Men</td>\n",
       "      <td>17.0033</td>\n",
       "      <td>8.548</td>\n",
       "      <td>9091</td>\n",
       "      <td>1957</td>\n",
       "      <td>4</td>\n",
       "      <td>8</td>\n",
       "      <td>2.890555</td>\n",
       "    </tr>\n",
       "  </tbody>\n",
       "</table>\n",
       "</div>"
      ],
      "text/plain": [
       "  original_language release_date                     title  popularity  \\\n",
       "0                en   1994-09-23  The Shawshank Redemption     35.0440   \n",
       "1                en   1972-03-14             The Godfather     36.3040   \n",
       "2                en   1974-12-20     The Godfather Part II     17.2441   \n",
       "3                en   1993-12-15          Schindler's List     37.5490   \n",
       "4                en   1957-04-10              12 Angry Men     17.0033   \n",
       "\n",
       "   vote_average  vote_count  release_year  release_month  language_encoded  \\\n",
       "0         8.708       28176          1994              9                 8   \n",
       "1         8.687       21363          1972              3                 8   \n",
       "2         8.570       12910          1974             12                 8   \n",
       "3         8.564       16380          1993             12                 8   \n",
       "4         8.548        9091          1957              4                 8   \n",
       "\n",
       "   log_popularity  \n",
       "0        3.584740  \n",
       "1        3.619101  \n",
       "2        2.903842  \n",
       "3        3.651930  \n",
       "4        2.890555  "
      ]
     },
     "execution_count": 315,
     "metadata": {},
     "output_type": "execute_result"
    }
   ],
   "source": [
    "df.head()"
   ]
  },
  {
   "cell_type": "code",
   "execution_count": 316,
   "id": "781377ca",
   "metadata": {},
   "outputs": [
    {
     "name": "stdout",
     "output_type": "stream",
     "text": [
      "Index(['vote_average', 'vote_count', 'release_year', 'release_month',\n",
      "       'language_encoded'],\n",
      "      dtype='object')\n"
     ]
    }
   ],
   "source": [
    "print(X_train.columns)\n"
   ]
  },
  {
   "cell_type": "markdown",
   "id": "3ee5c649",
   "metadata": {},
   "source": [
    "## `New Movie Prediction`"
   ]
  },
  {
   "cell_type": "code",
   "execution_count": null,
   "id": "9d93ee5c",
   "metadata": {},
   "outputs": [
    {
     "name": "stdout",
     "output_type": "stream",
     "text": [
      "Predicted Popularity (Adjusted): 23.80\n"
     ]
    }
   ],
   "source": [
    "# New movie Predictyion Output\n",
    "new_movie = pd.DataFrame([{\n",
    "    \"vote_average\": 8.5,\n",
    "    \"vote_count\": 20000,\n",
    "    \"release_year\": 2025,\n",
    "    \"release_month\": 5,\n",
    "    \"language_encoded\": le.transform([\"en\"])[0]\n",
    "}])\n",
    "\n",
    "# Predict log popularity\n",
    "log_pred = model.predict(new_movie)[0]\n",
    "\n",
    "# Reverse log\n",
    "predicted_popularity = np.expm1(log_pred)\n",
    "\n",
    "print(f\"Predicted Popularity (Adjusted): {predicted_popularity:.2f}\")\n"
   ]
  }
 ],
 "metadata": {
  "kernelspec": {
   "display_name": "Python 3",
   "language": "python",
   "name": "python3"
  },
  "language_info": {
   "codemirror_mode": {
    "name": "ipython",
    "version": 3
   },
   "file_extension": ".py",
   "mimetype": "text/x-python",
   "name": "python",
   "nbconvert_exporter": "python",
   "pygments_lexer": "ipython3",
   "version": "3.12.4"
  }
 },
 "nbformat": 4,
 "nbformat_minor": 5
}
